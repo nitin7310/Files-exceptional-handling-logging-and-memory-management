{
  "nbformat": 4,
  "nbformat_minor": 0,
  "metadata": {
    "colab": {
      "provenance": []
    },
    "kernelspec": {
      "name": "python3",
      "display_name": "Python 3"
    },
    "language_info": {
      "name": "python"
    }
  },
  "cells": [
    {
      "cell_type": "markdown",
      "source": [
        "#Files, exceptional handling, logging and memory management Assignment\n",
        "\n",
        "1.What is the difference between interpreted and compiled languages\n",
        "\n",
        "  -> 1. Interpreted Languages\n",
        "\n",
        "        The code is executed line-by-line by an interpreter.\n",
        "\n",
        "        Programs do not need to be pre-converted into machine code; instead, they are translated and executed on the fly.\n",
        "\n",
        "        Examples: Python, JavaScript, Ruby.\n",
        "\n",
        "  2.Compiled Languages\n",
        "\n",
        "     The code is translated into machine code (binary) by a compiler before execution. This generates an executable file (e.g., .exe on Windows).\n",
        "\n",
        "     Examples: C, C++, Go, Rust.\n",
        "\n",
        "\n",
        "2.What is exception handling in Python?\n",
        "\n",
        "  -> Exception handling in Python is a mechanism to gracefully manage errors or\n",
        "     exceptional conditions that may arise during the execution of a program. It ensures that the program does not crash abruptly and provides an opportunity to handle errors in a structured way.\n",
        "\n",
        "3.What is the purpose of the finally block in exception handling?\n",
        "\n",
        "  -> The purpose of the finally block in exception handling is to define a section of code that is guaranteed to execute, regardless of whether an exception was raised or not. It ensures that necessary cleanup or resource release happens, making your program more robust and reliable.\n",
        "\n",
        "\n",
        "4.What is logging in Python?\n",
        "\n",
        "  -> Logging in Python is a built-in way to track events, debug issues, and record information about the runtime behavior of a program\n",
        "\n",
        "\n",
        "5.Logging in Python is a built-in way to track events, debug issues, and record information about the runtime behavior of a program\n",
        "\n",
        "  -> That's absolutely correct! Python's logging module provides a robust and flexible framework for tracking events and gaining insights into the behavior of a program. It offers multiple logging levels—such as DEBUG, INFO, WARNING, ERROR, and CRITICAL—to capture different types of messages\n",
        "\n",
        "\n",
        "7.How can you handle multiple exceptions in Python\n",
        "\n",
        "  -> In Python, you can handle multiple exceptions using a try-except block with multiple except clauses or by grouping multiple exceptions in a single except clause. Here's how:\n",
        "\n",
        "1. Using Multiple except Clauses\n",
        "You can handle different exceptions separately, tailoring the response for each type of exception.\n",
        "\n",
        "2. Grouping Multiple Exceptions in One except Clause\n",
        "If you want to handle multiple exceptions in the same way, you can group them in a single except clause using a tuple.\n",
        "\n",
        "3. Catch-All Exception\n",
        "You can use a generic except block to catch any unexpected exceptions. However, this should generally be used cautiously, as it might suppress critical exceptions.\n",
        "\n",
        "\n",
        "8.What is the purpose of the with statement when handling files in Python?\n",
        "\n",
        "  -> The with statement in Python is used when working with files to ensure proper resource management. Its primary purpose is to provide a context manager that automatically handles opening and closing the file, even if an exception occurs during file operations. This eliminates the need to explicitly close the file using file.close().\n",
        "\n",
        "\n",
        "9.What is the difference between multithreading and multiprocessing\n",
        "\n",
        "  -> Multithreading\n",
        "\n",
        "     Definition: Multithreading involves running multiple threads (smaller units of a process) within the same process.\n",
        "\n",
        "     Concurrency: Threads share the same memory space and resources of the parent process, allowing for lightweight context switching between threads.\n",
        "\n",
        "     Use Case: Suitable for I/O-bound tasks, such as file I/O, web scraping, or waiting for user input.\n",
        "\n",
        "  Multiprocessing\n",
        "\n",
        "     Definition: Multiprocessing involves running multiple processes, each with its own memory space.\n",
        "\n",
        "     Parallelism: Processes do not share memory and communicate using mechanisms like pipes or queues, making it suitable for true parallel execution on multi-core CPUs.\n",
        "\n",
        "     Use Case: Suitable for CPU-bound tasks, such as mathematical computations, machine learning, or data processing.\n",
        "\n",
        "\n",
        "10.What are the advantages of using logging in a program\n",
        "\n",
        "  -> Using logging in a program offers numerous advantages, particularly when it comes to tracking, diagnosing, and understanding the behavior of the application. Here are some of the key benefits:\n",
        "\n",
        "Debugging Made Easier: Logs help identify the root cause of issues in your program by providing details about the program's state and flow at different points.\n",
        "\n",
        "Real-time Monitoring: Logging enables you to monitor your application in real time, especially useful in production environments to track unexpected behaviors.\n",
        "\n",
        "Improved Error Tracking: You can use logs to record errors and exceptions, making it easier to analyze and prioritize issues for resolution.\n",
        "\n",
        "Program Flow Understanding: Logs provide insights into how the program executes, which is helpful for new developers or for revisiting old code.\n",
        "\n",
        "Post-Mortem Analysis: If an application crashes, logs can serve as a record of events leading up to the failure, aiding in investigation and fixing the issue.\n",
        "\n",
        "Customizable Levels: Logging frameworks typically offer multiple levels (e.g., DEBUG, INFO, WARNING, ERROR, CRITICAL), allowing you to control the detail of information captured based on the situation.\n",
        "\n",
        "Separation from Standard Output: Logs can be directed to files, databases, or external monitoring systems, keeping them separate from user-facing outputs like the terminal.\n",
        "\n",
        "Automated Alerting: Logs can be integrated with monitoring tools to send alerts when specific conditions or anomalies occur.\n",
        "\n",
        "Documentation: Logs can act as documentation of system behavior over time, useful for auditing or compliance purposes.\n",
        "\n",
        "\n",
        "11.What is memory management in Python\n",
        "\n",
        "  -> Memory management in Python refers to the way the Python interpreter handles the allocation and deallocation of memory during the execution of a program. It ensures that your program uses memory efficiently, avoiding memory leaks and optimizing performance. Here’s how it works in Python.\n",
        "\n",
        "\n",
        "12.What are the basic steps involved in exception handling in Python\n",
        "\n",
        "  -> In Python, exception handling involves managing errors or unusual conditions that may arise during program execution. The basic steps are as follows:\n",
        "\n",
        "Identify Code That May Cause Errors:\n",
        "\n",
        "Place the code that might raise an exception inside a try block. This helps isolate potential issues.\n",
        "\n",
        "Catch Exceptions:\n",
        "\n",
        "Use an except block to define how the program should respond if an exception occurs. You can catch specific exceptions or handle general ones.\n",
        "\n",
        "Optional Else Block:\n",
        "\n",
        "If no exception occurs, you can execute additional code using an else block. This is optional but useful for clarity.\n",
        "\n",
        "Optional Finally Block:\n",
        "\n",
        "Use a finally block to execute code that must run no matter what (e.g., closing files or releasing resources). This is executed whether or not an exception occurs.\n",
        "\n",
        "\n",
        "13.Why is memory management important in Python?\n",
        "\n",
        "  -> Memory management is crucial in Python (and any programming language) because it ensures that system resources, particularly memory, are used efficiently and responsibly. Here's why it matters:\n",
        "\n",
        "Efficient Resource Utilization:\n",
        "\n",
        "Proper memory management allows a program to use only the necessary memory, leaving the rest available for other applications and processes.\n",
        "\n",
        "Avoiding Memory Leaks:\n",
        "\n",
        "Without effective memory management, unused objects could accumulate in memory, causing memory leaks that degrade system performance over time.\n",
        "\n",
        "Performance Optimization:\n",
        "\n",
        "Efficient allocation and deallocation of memory help maintain optimal program speed and reduce overhead, especially in large-scale applications.\n",
        "\n",
        "Program Stability:\n",
        "\n",
        "Mismanaged memory can lead to program crashes or unpredictable behavior. Python's memory management system ensures stability by handling allocation and deallocation automatically.\n",
        "\n",
        "Simplifies Development:\n",
        "\n",
        "Python's built-in garbage collection and memory optimization techniques free developers from manually managing memory, reducing coding errors and making development faster and easier.\n",
        "\n",
        "Supports Scalability:\n",
        "\n",
        "For programs handling significant amounts of data, efficient memory management ensures the program scales effectively without exhausting system resources.\n",
        "\n",
        "\n",
        "\n",
        "14.What is the role of try and except in exception handling?\n",
        "\n",
        "  -> The try and except blocks are fundamental to Python's exception handling mechanism. Here's their role:\n",
        "\n",
        "try Block:\n",
        "\n",
        "The try block contains the code that may raise an exception. This is where you \"test\" potentially problematic code.\n",
        "\n",
        "If an exception occurs within the try block, Python immediately halts the execution of the block and looks for a matching except block.\n",
        "\n",
        "except Block:\n",
        "\n",
        "The except block defines how to handle specific exceptions.\n",
        "\n",
        "It \"catches\" the raised exception, allowing you to write code to respond appropriately, such as logging the error or displaying a user-friendly message.\n",
        "\n",
        "You can catch multiple types of exceptions using separate except blocks for each type, or catch all exceptions with a generic except.\n",
        "\n",
        "\n",
        "16.What is the purpose of the else block in exception handling\n",
        "\n",
        "  -> The else block in exception handling is used to specify a block of code that should run only if no exceptions are raised in the try block. It essentially allows you to separate the code that should execute when everything goes smoothly from the code that handles errors (except blocks). This improves clarity and helps structure the program logic better.\n",
        "\n",
        "\n",
        "17.What are the common logging levels in Python?\n",
        "\n",
        "  -> In Python, the logging module provides several predefined logging levels to categorize and control the severity of log messages. These levels help developers filter logs based on their importance. Here are the common logging.\n",
        "\n",
        "\n",
        "19.What is the importance of closing a file in Python?\n",
        "\n",
        "  -> Closing a file in Python is an essential part of working with file operations. Here’s why it’s important:\n",
        "\n",
        "Releasing Resources:\n",
        "\n",
        "When a file is open, it uses system resources like memory and file handles. Closing the file ensures these resources are released and made available for other processes.\n",
        "\n",
        "Flushing Buffered Data:\n",
        "\n",
        "If you're writing to a file, some data may be held in a buffer (temporary memory) before being saved to the file. Closing the file ensures that all buffered data is properly written to the disk.\n",
        "\n",
        "Avoiding Data Corruption:\n",
        "\n",
        "Not closing a file after writing to it can lead to incomplete writes or corrupted data, as some operations may not finish properly.\n",
        "\n",
        "Preventing Too Many Open Files:\n",
        "\n",
        "Keeping files open unnecessarily can result in hitting the system's file handle limit, which might cause your program or other applications to fail.\n",
        "\n",
        "Better Code Practices:\n",
        "\n",
        "Explicitly closing files is a good habit that makes your code cleaner, more readable, and easier to debug.\n",
        "\n",
        "\n",
        "20.What is the difference between file.read() and file.readline() in Python?\n",
        "\n",
        "  -> file.read():\n",
        "\n",
        "1. Reads the entire content of the file as a single string.\n",
        "\n",
        "2. You can optionally pass an argument (e.g., file.read(n)) to read up to n     characters.\n",
        "\n",
        "3. Useful when you need to process the whole file at once.\n",
        "\n",
        "4. Be cautious with large files, as it loads everything into memory.\n",
        "\n",
        "file.readline():\n",
        "\n",
        "1. Reads only the next line from the file.\n",
        "\n",
        "2. It stops reading at the newline character (\\n).\n",
        "\n",
        "3. Useful for processing files line by line, especially for large files.\n",
        "\n",
        "\n",
        "21.What is the logging module in Python used for?\n",
        "\n",
        "  -> The logging module in Python is used for recording messages that provide insights into the execution of a program. It is a versatile tool for tracking and diagnosing issues, monitoring program behavior, and storing critical information for later analysis.\n",
        "\n",
        "22.What is the os module in Python used for in file handling?\n",
        "\n",
        "  -> The os module in Python provides a way to interact with the operating system and perform various file handling operations. It offers functions for working with files and directories, making it a versatile tool for managing the file system.\n",
        "\n",
        "\n",
        "23.What are the challenges associated with memory management in Python?\n",
        "\n",
        "  -> Memory management in Python, while largely automated and efficient, does present some challenges and potential limitations that developers should be aware of:\n",
        "\n",
        "Garbage Collection Overhead:\n",
        "\n",
        "Python uses garbage collection to manage unused objects. However, in programs with a large number of objects or circular references, garbage collection can add overhead, impacting performance.\n",
        "\n",
        "Memory Leaks:\n",
        "\n",
        "Although Python is designed to avoid memory leaks, they can still occur when objects are unintentionally referenced, preventing them from being collected by the garbage collector.\n",
        "\n",
        "Inefficient Use of Memory in Certain Cases:\n",
        "\n",
        "Python's dynamic typing and flexibility come at the cost of additional memory usage. For instance, even small integers and strings may use more memory compared to other programming languages.\n",
        "\n",
        "Handling Circular References:\n",
        "\n",
        "Circular references (e.g., two objects referring to each other) can complicate memory management. The garbage collector can handle these, but it may take extra processing time.\n",
        "\n",
        "\n",
        "25.Why is it important to use multithreading in certain applications?\n",
        "\n",
        "  -> Multithreading is important in certain applications because it enables concurrent execution of multiple threads, enhancing performance, responsiveness, and efficiency.\n"
      ],
      "metadata": {
        "id": "D2g52NevImts"
      }
    },
    {
      "cell_type": "code",
      "execution_count": 2,
      "metadata": {
        "colab": {
          "base_uri": "https://localhost:8080/"
        },
        "id": "sVF3yYMbA5zx",
        "outputId": "8b1c0c05-50be-400e-f6a8-46b72c3635f3"
      },
      "outputs": [
        {
          "output_type": "stream",
          "name": "stdout",
          "text": [
            "String has been written to the file!\n"
          ]
        }
      ],
      "source": [
        "# 1.  How can you open a file for writing in Python and write a string to it\n",
        "\n",
        "\n",
        "with open(\"myfile.txt\", \"w\") as file:\n",
        "    # Write a string to the file\n",
        "    file.write(\"This is a sample string.\")\n",
        "\n",
        "print(\"String has been written to the file!\")\n"
      ]
    },
    {
      "cell_type": "code",
      "source": [
        "# 2.Write a Python program to read the contents of a file and print each line\n",
        "\n",
        "\n",
        "# Open the file in read mode\n",
        "with open(\"example.txt\", \"r\") as file:\n",
        "    # Loop through each line in the file\n",
        "    for line in file:\n",
        "        # Print the line (stripping any extra whitespace)\n",
        "        print(line.strip())\n",
        "\n"
      ],
      "metadata": {
        "colab": {
          "base_uri": "https://localhost:8080/",
          "height": 228
        },
        "id": "RvgFFKBMBiKZ",
        "outputId": "f49d209e-65fb-4df7-f5e5-5d9f50d0af7e"
      },
      "execution_count": 9,
      "outputs": [
        {
          "output_type": "stream",
          "name": "stdout",
          "text": [
            "String has been written to the file!\n"
          ]
        },
        {
          "output_type": "error",
          "ename": "FileNotFoundError",
          "evalue": "[Errno 2] No such file or directory: 'example.txt'",
          "traceback": [
            "\u001b[0;31m---------------------------------------------------------------------------\u001b[0m",
            "\u001b[0;31mFileNotFoundError\u001b[0m                         Traceback (most recent call last)",
            "\u001b[0;32m<ipython-input-9-e49c4a02323c>\u001b[0m in \u001b[0;36m<cell line: 0>\u001b[0;34m()\u001b[0m\n\u001b[1;32m     11\u001b[0m \u001b[0;34m\u001b[0m\u001b[0m\n\u001b[1;32m     12\u001b[0m \u001b[0;31m# Open the file in read mode\u001b[0m\u001b[0;34m\u001b[0m\u001b[0;34m\u001b[0m\u001b[0m\n\u001b[0;32m---> 13\u001b[0;31m \u001b[0;32mwith\u001b[0m \u001b[0mopen\u001b[0m\u001b[0;34m(\u001b[0m\u001b[0;34m\"example.txt\"\u001b[0m\u001b[0;34m,\u001b[0m \u001b[0;34m\"r\"\u001b[0m\u001b[0;34m)\u001b[0m \u001b[0;32mas\u001b[0m \u001b[0mfile\u001b[0m\u001b[0;34m:\u001b[0m\u001b[0;34m\u001b[0m\u001b[0;34m\u001b[0m\u001b[0m\n\u001b[0m\u001b[1;32m     14\u001b[0m     \u001b[0;31m# Loop through each line in the file\u001b[0m\u001b[0;34m\u001b[0m\u001b[0;34m\u001b[0m\u001b[0m\n\u001b[1;32m     15\u001b[0m     \u001b[0;32mfor\u001b[0m \u001b[0mline\u001b[0m \u001b[0;32min\u001b[0m \u001b[0mfile\u001b[0m\u001b[0;34m:\u001b[0m\u001b[0;34m\u001b[0m\u001b[0;34m\u001b[0m\u001b[0m\n",
            "\u001b[0;31mFileNotFoundError\u001b[0m: [Errno 2] No such file or directory: 'example.txt'"
          ]
        }
      ]
    },
    {
      "cell_type": "code",
      "source": [
        "# 3. How would you handle a case where the file doesn't exist while trying to open it for reading\n",
        "\n",
        "\n",
        "try:\n",
        "    # Attempt to open the file in read mode\n",
        "    with open(\"example.txt\", \"r\") as file:\n",
        "        # Read and print each line\n",
        "        for line in file:\n",
        "            print(line.strip())\n",
        "except FileNotFoundError:\n",
        "    # Handle the case where the file doesn't exist\n",
        "    print(\"Error: The file does not exist. Please check the file name and path.\")\n"
      ],
      "metadata": {
        "colab": {
          "base_uri": "https://localhost:8080/"
        },
        "id": "aUm_D-PTCYYs",
        "outputId": "1bbbcf3b-1dfc-4b8b-dd28-a42d590a7ea0"
      },
      "execution_count": 10,
      "outputs": [
        {
          "output_type": "stream",
          "name": "stdout",
          "text": [
            "Error: The file does not exist. Please check the file name and path.\n"
          ]
        }
      ]
    },
    {
      "cell_type": "code",
      "source": [
        "# 4. Write a Python script that reads from one file and writes its content to another file.\n",
        "\n",
        "\n",
        "# Open the source file in read mode and the destination file in write mode\n",
        "try:\n",
        "    with open(\"source.txt\", \"r\") as source_file:\n",
        "        with open(\"destination.txt\", \"w\") as destination_file:\n",
        "            # Read content from the source file\n",
        "            for line in source_file:\n",
        "                # Write each line to the destination file\n",
        "                destination_file.write(line)\n",
        "    print(\"Content successfully copied to destination.txt\")\n",
        "except FileNotFoundError:\n",
        "    print(\"Error: The source file does not exist. Please check the file name and path.\")\n",
        "except Exception as e:\n",
        "    print(f\"An error occurred: {e}\")\n"
      ],
      "metadata": {
        "colab": {
          "base_uri": "https://localhost:8080/"
        },
        "id": "ddnbErRPC73m",
        "outputId": "63342899-4941-4315-c97c-5787c4c9acce"
      },
      "execution_count": 11,
      "outputs": [
        {
          "output_type": "stream",
          "name": "stdout",
          "text": [
            "Error: The source file does not exist. Please check the file name and path.\n"
          ]
        }
      ]
    },
    {
      "cell_type": "code",
      "source": [
        "# 5. How would you catch and handle division by zero error in Python?\n",
        "\n",
        "\n",
        "try:\n",
        "    # Attempt to perform division\n",
        "    numerator = 10\n",
        "    denominator = 0\n",
        "    result = numerator / denominator\n",
        "    print(f\"Result: {result}\")\n",
        "except ZeroDivisionError:\n",
        "    # Handle the division by zero error\n",
        "    print(\"Error: Division by zero is not allowed. Please use a non-zero denominator.\")\n"
      ],
      "metadata": {
        "colab": {
          "base_uri": "https://localhost:8080/"
        },
        "id": "NujL7HH9DLeO",
        "outputId": "2238983a-4dba-4ac8-b4ce-4a6d1cffb782"
      },
      "execution_count": 12,
      "outputs": [
        {
          "output_type": "stream",
          "name": "stdout",
          "text": [
            "Error: Division by zero is not allowed. Please use a non-zero denominator.\n"
          ]
        }
      ]
    },
    {
      "cell_type": "code",
      "source": [
        "# 6. Write a Python program that logs an error message to a log file when a division by zero exception occurs\n",
        "\n",
        "\n",
        "import logging\n",
        "\n",
        "# Configure the logging settings\n",
        "logging.basicConfig(filename=\"error_log.txt\", level=logging.ERROR,\n",
        "                    format=\"%(asctime)s - %(levelname)s - %(message)s\")\n",
        "\n",
        "try:\n",
        "    # Attempt division\n",
        "    numerator = 10\n",
        "    denominator = 0\n",
        "    result = numerator / denominator\n",
        "    print(f\"Result: {result}\")\n",
        "except ZeroDivisionError:\n",
        "    # Log the error message to the file\n",
        "    logging.error(\"Attempted to divide by zero.\")\n",
        "    print(\"Error: Division by zero occurred. Check the error_log.txt for details.\")\n"
      ],
      "metadata": {
        "colab": {
          "base_uri": "https://localhost:8080/"
        },
        "id": "IjMUtxkGDc09",
        "outputId": "c4510e83-447a-42b5-ccc3-e179b8236e8a"
      },
      "execution_count": 13,
      "outputs": [
        {
          "output_type": "stream",
          "name": "stderr",
          "text": [
            "ERROR:root:Attempted to divide by zero.\n"
          ]
        },
        {
          "output_type": "stream",
          "name": "stdout",
          "text": [
            "Error: Division by zero occurred. Check the error_log.txt for details.\n"
          ]
        }
      ]
    },
    {
      "cell_type": "code",
      "source": [
        "# 7.How do you log information at different levels (INFO, ERROR, WARNING) in Python using the logging module\n",
        "\n",
        "\n",
        "import logging\n",
        "\n",
        "# Configure the logging settings\n",
        "logging.basicConfig(level=logging.DEBUG,\n",
        "                    format=\"%(asctime)s - %(levelname)s - %(message)s\")\n",
        "\n",
        "# Log messages at different levels\n",
        "logging.debug(\"This is a DEBUG message. Used for detailed diagnostic output.\")\n",
        "logging.info(\"This is an INFO message. Used to confirm things are working as expected.\")\n",
        "logging.warning(\"This is a WARNING message. Indicates something unexpected might happen.\")\n",
        "logging.error(\"This is an ERROR message. Indicates a serious problem.\")\n",
        "logging.critical(\"This is a CRITICAL message. Indicates a critical failure.\")\n",
        "\n",
        "print(\"Log messages generated at different levels.\")\n"
      ],
      "metadata": {
        "colab": {
          "base_uri": "https://localhost:8080/"
        },
        "id": "IrpYNbG9DpEj",
        "outputId": "3be9072f-2cf7-48d3-c3fb-e6359937953d"
      },
      "execution_count": 14,
      "outputs": [
        {
          "output_type": "stream",
          "name": "stderr",
          "text": [
            "WARNING:root:This is a WARNING message. Indicates something unexpected might happen.\n",
            "ERROR:root:This is an ERROR message. Indicates a serious problem.\n",
            "CRITICAL:root:This is a CRITICAL message. Indicates a critical failure.\n"
          ]
        },
        {
          "output_type": "stream",
          "name": "stdout",
          "text": [
            "Log messages generated at different levels.\n"
          ]
        }
      ]
    },
    {
      "cell_type": "code",
      "source": [
        "# 8.Write a program to handle a file opening error using exception handling\n",
        "\n",
        "\n",
        "try:\n",
        "    # Attempt to open the file in read mode\n",
        "    with open(\"non_existent_file.txt\", \"r\") as file:\n",
        "        # Read and print the file content\n",
        "        content = file.read()\n",
        "        print(content)\n",
        "except FileNotFoundError:\n",
        "    # Handle the case where the file does not exist\n",
        "    print(\"Error: The file does not exist. Please check the file name and path.\")\n",
        "except PermissionError:\n",
        "    # Handle the case where there are insufficient permissions to open the file\n",
        "    print(\"Error: Insufficient permissions to open the file.\")\n",
        "except Exception as e:\n",
        "    # Handle any other unexpected exceptions\n",
        "    print(f\"An unexpected error occurred: {e}\")\n"
      ],
      "metadata": {
        "colab": {
          "base_uri": "https://localhost:8080/"
        },
        "id": "JzXbCcE5D4Yq",
        "outputId": "6ebc6fdc-66ea-4016-e883-31bf4fc547b8"
      },
      "execution_count": 15,
      "outputs": [
        {
          "output_type": "stream",
          "name": "stdout",
          "text": [
            "Error: The file does not exist. Please check the file name and path.\n"
          ]
        }
      ]
    },
    {
      "cell_type": "code",
      "source": [
        "# 9. How can you read a file line by line and store its content in a list in Python\n",
        "\n",
        "\n",
        "# Open the file in read mode\n",
        "with open(\"example.txt\", \"r\") as file:\n",
        "    # Read lines from the file and store them in a list\n",
        "    lines = file.readlines()\n",
        "\n",
        "# Remove trailing newline characters from each line\n",
        "lines = [line.strip() for line in lines]\n",
        "\n",
        "# Print the list of lines\n",
        "print(lines)\n"
      ],
      "metadata": {
        "colab": {
          "base_uri": "https://localhost:8080/",
          "height": 211
        },
        "id": "-20FHw3NED_C",
        "outputId": "ad065542-78e9-4d77-d431-5d050c029f41"
      },
      "execution_count": 16,
      "outputs": [
        {
          "output_type": "error",
          "ename": "FileNotFoundError",
          "evalue": "[Errno 2] No such file or directory: 'example.txt'",
          "traceback": [
            "\u001b[0;31m---------------------------------------------------------------------------\u001b[0m",
            "\u001b[0;31mFileNotFoundError\u001b[0m                         Traceback (most recent call last)",
            "\u001b[0;32m<ipython-input-16-663b87986583>\u001b[0m in \u001b[0;36m<cell line: 0>\u001b[0;34m()\u001b[0m\n\u001b[1;32m      3\u001b[0m \u001b[0;34m\u001b[0m\u001b[0m\n\u001b[1;32m      4\u001b[0m \u001b[0;31m# Open the file in read mode\u001b[0m\u001b[0;34m\u001b[0m\u001b[0;34m\u001b[0m\u001b[0m\n\u001b[0;32m----> 5\u001b[0;31m \u001b[0;32mwith\u001b[0m \u001b[0mopen\u001b[0m\u001b[0;34m(\u001b[0m\u001b[0;34m\"example.txt\"\u001b[0m\u001b[0;34m,\u001b[0m \u001b[0;34m\"r\"\u001b[0m\u001b[0;34m)\u001b[0m \u001b[0;32mas\u001b[0m \u001b[0mfile\u001b[0m\u001b[0;34m:\u001b[0m\u001b[0;34m\u001b[0m\u001b[0;34m\u001b[0m\u001b[0m\n\u001b[0m\u001b[1;32m      6\u001b[0m     \u001b[0;31m# Read lines from the file and store them in a list\u001b[0m\u001b[0;34m\u001b[0m\u001b[0;34m\u001b[0m\u001b[0m\n\u001b[1;32m      7\u001b[0m     \u001b[0mlines\u001b[0m \u001b[0;34m=\u001b[0m \u001b[0mfile\u001b[0m\u001b[0;34m.\u001b[0m\u001b[0mreadlines\u001b[0m\u001b[0;34m(\u001b[0m\u001b[0;34m)\u001b[0m\u001b[0;34m\u001b[0m\u001b[0;34m\u001b[0m\u001b[0m\n",
            "\u001b[0;31mFileNotFoundError\u001b[0m: [Errno 2] No such file or directory: 'example.txt'"
          ]
        }
      ]
    },
    {
      "cell_type": "code",
      "source": [
        "# 10.How can you append data to an existing file in Python\n",
        "\n",
        "\n",
        "# Open the file in append mode\n",
        "with open(\"example.txt\", \"a\") as file:\n",
        "    # Append a new line to the file\n",
        "    file.write(\"\\nThis is an appended line.\")\n",
        "\n",
        "print(\"Data successfully appended to the file!\")\n"
      ],
      "metadata": {
        "colab": {
          "base_uri": "https://localhost:8080/"
        },
        "id": "PpKjBcF_ESql",
        "outputId": "7c80ef92-3c7e-4478-f375-d73faeea6618"
      },
      "execution_count": 17,
      "outputs": [
        {
          "output_type": "stream",
          "name": "stdout",
          "text": [
            "Data successfully appended to the file!\n"
          ]
        }
      ]
    },
    {
      "cell_type": "code",
      "source": [
        "# 11. Write a Python program that uses a try-except block to handle an error when attempting to access a\n",
        "#     dictionary key that doesn't exist\n",
        "\n",
        "\n",
        "# Define a dictionary\n",
        "my_dict = {\n",
        "    \"name\": \"Alice\",\n",
        "    \"age\": 25,\n",
        "    \"city\": \"New York\"\n",
        "}\n",
        "\n",
        "try:\n",
        "    # Attempt to access a key that might not exist\n",
        "    print(my_dict[\"country\"])\n",
        "except KeyError:\n",
        "    # Handle the KeyError if the key does not exist\n",
        "    print(\"Error: The key 'country' does not exist in the dictionary.\")\n"
      ],
      "metadata": {
        "colab": {
          "base_uri": "https://localhost:8080/"
        },
        "id": "ii5Yvo26Ef6z",
        "outputId": "041fea42-6f41-4c92-f0c6-a7b22db13074"
      },
      "execution_count": 18,
      "outputs": [
        {
          "output_type": "stream",
          "name": "stdout",
          "text": [
            "Error: The key 'country' does not exist in the dictionary.\n"
          ]
        }
      ]
    },
    {
      "cell_type": "code",
      "source": [
        "# 13. How would you check if a file exists before attempting to read it in Python\n",
        "\n",
        "\n",
        "import os\n",
        "\n",
        "file_path = \"example.txt\"\n",
        "\n",
        "# Check if the file exists\n",
        "if os.path.exists(file_path):\n",
        "    with open(file_path, \"r\") as file:\n",
        "        content = file.read()\n",
        "        print(content)\n",
        "else:\n",
        "    print(\"Error: The file does not exist.\")\n"
      ],
      "metadata": {
        "colab": {
          "base_uri": "https://localhost:8080/"
        },
        "id": "dSz_7xQVFQew",
        "outputId": "129e79ed-d0aa-45cd-a4eb-c22c5516438b"
      },
      "execution_count": 19,
      "outputs": [
        {
          "output_type": "stream",
          "name": "stdout",
          "text": [
            "\n",
            "This is an appended line.\n"
          ]
        }
      ]
    },
    {
      "cell_type": "code",
      "source": [
        "#15. Write a Python program that prints the content of a file and handles the case when the file is empty\n",
        "\n",
        "\n",
        "try:\n",
        "    # Open the file in read mode\n",
        "    with open(\"example.txt\", \"r\") as file:\n",
        "        # Read the content of the file\n",
        "        content = file.read()\n",
        "\n",
        "        # Check if the file is empty\n",
        "        if not content:\n",
        "            print(\"The file is empty.\")\n",
        "        else:\n",
        "            print(\"File content:\")\n",
        "            print(content)\n",
        "except FileNotFoundError:\n",
        "    # Handle the case where the file does not exist\n",
        "    print(\"Error: The file does not exist. Please check the file name and path.\")\n",
        "except Exception as e:\n",
        "    # Handle other unexpected exceptions\n",
        "    print(f\"An unexpected error occurred: {e}\")\n"
      ],
      "metadata": {
        "colab": {
          "base_uri": "https://localhost:8080/"
        },
        "id": "jNWcIlcoFpKk",
        "outputId": "d6672ecd-5d3e-4ee4-9a3d-c55bbdf88c52"
      },
      "execution_count": 20,
      "outputs": [
        {
          "output_type": "stream",
          "name": "stdout",
          "text": [
            "File content:\n",
            "\n",
            "This is an appended line.\n"
          ]
        }
      ]
    },
    {
      "cell_type": "code",
      "source": [
        "# 16. Demonstrate how to use memory profiling to check the memory usage of a small program\n",
        "\n",
        "\n",
        "# Import the memory_profiler module\n",
        "from memory_profiler import profile\n",
        "\n",
        "@profile\n",
        "def my_function():\n",
        "    # Allocate memory by creating a list\n",
        "    data = [i for i in range(1000000)]\n",
        "    print(\"Data processing completed.\")\n",
        "    return data\n",
        "\n",
        "if __name__ == \"__main__\":\n",
        "    my_function()\n"
      ],
      "metadata": {
        "colab": {
          "base_uri": "https://localhost:8080/",
          "height": 211
        },
        "id": "elkAiBsBF-kw",
        "outputId": "8030b72b-4356-4738-c273-e19360ff9211"
      },
      "execution_count": 22,
      "outputs": [
        {
          "output_type": "error",
          "ename": "NameError",
          "evalue": "name 'profile' is not defined",
          "traceback": [
            "\u001b[0;31m---------------------------------------------------------------------------\u001b[0m",
            "\u001b[0;31mNameError\u001b[0m                                 Traceback (most recent call last)",
            "\u001b[0;32m<ipython-input-22-f80621d66acb>\u001b[0m in \u001b[0;36m<cell line: 0>\u001b[0;34m()\u001b[0m\n\u001b[1;32m      5\u001b[0m \u001b[0;31m#from memory_profiler import profile\u001b[0m\u001b[0;34m\u001b[0m\u001b[0;34m\u001b[0m\u001b[0m\n\u001b[1;32m      6\u001b[0m \u001b[0;34m\u001b[0m\u001b[0m\n\u001b[0;32m----> 7\u001b[0;31m \u001b[0;34m@\u001b[0m\u001b[0mprofile\u001b[0m\u001b[0;34m\u001b[0m\u001b[0;34m\u001b[0m\u001b[0m\n\u001b[0m\u001b[1;32m      8\u001b[0m \u001b[0;32mdef\u001b[0m \u001b[0mmy_function\u001b[0m\u001b[0;34m(\u001b[0m\u001b[0;34m)\u001b[0m\u001b[0;34m:\u001b[0m\u001b[0;34m\u001b[0m\u001b[0;34m\u001b[0m\u001b[0m\n\u001b[1;32m      9\u001b[0m     \u001b[0;31m# Allocate memory by creating a list\u001b[0m\u001b[0;34m\u001b[0m\u001b[0;34m\u001b[0m\u001b[0m\n",
            "\u001b[0;31mNameError\u001b[0m: name 'profile' is not defined"
          ]
        }
      ]
    },
    {
      "cell_type": "code",
      "source": [
        "# 17. Write a Python program to create and write a list of numbers to a file, one number per line\n",
        "\n",
        "\n",
        "# Create a list of numbers\n",
        "numbers = [1, 2, 3, 4, 5, 6, 7, 8, 9, 10]\n",
        "\n",
        "# Open a file in write mode\n",
        "with open(\"numbers.txt\", \"w\") as file:\n",
        "    # Write each number to the file, one per line\n",
        "    for number in numbers:\n",
        "        file.write(f\"{number}\\n\")\n",
        "\n",
        "print(\"Numbers have been written to the file successfully!\")\n"
      ],
      "metadata": {
        "colab": {
          "base_uri": "https://localhost:8080/"
        },
        "id": "EteZUv4jGfVr",
        "outputId": "62e6553d-7e64-4982-ddd9-972c3e661881"
      },
      "execution_count": 23,
      "outputs": [
        {
          "output_type": "stream",
          "name": "stdout",
          "text": [
            "Numbers have been written to the file successfully!\n"
          ]
        }
      ]
    },
    {
      "cell_type": "code",
      "source": [
        "# 18. How would you implement a basic logging setup that logs to a file with rotation after 1MB\n",
        "\n",
        "\n",
        "import logging\n",
        "from logging.handlers import RotatingFileHandler\n",
        "\n",
        "# Configure the logging setup\n",
        "log_file = \"app_log.txt\"\n",
        "logging.basicConfig(\n",
        "    level=logging.DEBUG,\n",
        "    format=\"%(asctime)s - %(levelname)s - %(message)s\",\n",
        "    handlers=[\n",
        "        RotatingFileHandler(log_file, maxBytes=1_048_576, backupCount=3)  # 1MB rotation\n",
        "    ]\n",
        ")\n",
        "\n",
        "# Generate log messages for demonstration\n",
        "logging.info(\"Application started.\")\n",
        "logging.debug(\"Debugging in progress.\")\n",
        "logging.warning(\"This is a warning.\")\n",
        "logging.error(\"An error occurred.\")\n",
        "logging.critical(\"Critical failure encountered.\")\n",
        "\n",
        "print(\"Logging setup complete with file rotation after 1MB.\")\n"
      ],
      "metadata": {
        "id": "uXhny5zmGRqF"
      },
      "execution_count": 22,
      "outputs": []
    },
    {
      "cell_type": "code",
      "source": [
        "# 19. Write a program that handles both IndexError and KeyError using a try-except block\n",
        "\n",
        "\n",
        "try:\n",
        "    # Example for IndexError\n",
        "    my_list = [1, 2, 3]\n",
        "    print(my_list[5])  # Attempting to access an invalid index\n",
        "\n",
        "    # Example for KeyError\n",
        "    my_dict = {\"name\": \"John\", \"age\": 30}\n",
        "    print(my_dict[\"city\"])  # Attempting to access a non-existent key\n",
        "\n",
        "except IndexError:\n",
        "    # Handles the case where a list index is out of range\n",
        "    print(\"Error: List index is out of range.\")\n",
        "\n",
        "except KeyError:\n",
        "    # Handles the case where a dictionary key doesn't exist\n",
        "    print(\"Error: The specified key does not exist in the dictionary.\")\n",
        "\n",
        "except Exception as e:\n",
        "    # Catches any other unexpected exceptions\n",
        "    print(f\"An unexpected error occurred: {e}\")\n"
      ],
      "metadata": {
        "colab": {
          "base_uri": "https://localhost:8080/"
        },
        "id": "6gk26kmcGrP7",
        "outputId": "ecb3747d-e2bb-47d1-d3f9-9260b54fdd5a"
      },
      "execution_count": 24,
      "outputs": [
        {
          "output_type": "stream",
          "name": "stdout",
          "text": [
            "Error: List index is out of range.\n"
          ]
        }
      ]
    },
    {
      "cell_type": "code",
      "source": [
        "# 20.How would you open a file and read its contents using a context manager in Python?\n",
        "\n",
        "\n",
        "# Open the file in read mode using a context manager\n",
        "with open(\"example.txt\", \"r\") as file:\n",
        "    # Read the file's content\n",
        "    content = file.read()\n",
        "\n",
        "# Print the content\n",
        "print(\"File contents:\")\n",
        "print(content)\n"
      ],
      "metadata": {
        "colab": {
          "base_uri": "https://localhost:8080/"
        },
        "id": "LqJLfhAgHcPU",
        "outputId": "e782f15d-fff2-455e-b143-f5fbb084ec30"
      },
      "execution_count": 25,
      "outputs": [
        {
          "output_type": "stream",
          "name": "stdout",
          "text": [
            "File contents:\n",
            "\n",
            "This is an appended line.\n"
          ]
        }
      ]
    },
    {
      "cell_type": "code",
      "source": [
        "# 21.Write a Python program that reads a file and prints the number of occurrences of a specific word\n",
        "\n",
        "\n",
        "# Define the file name and the word to search for\n",
        "file_name = \"example.txt\"\n",
        "search_word = \"Python\"\n",
        "\n",
        "try:\n",
        "    # Open the file in read mode\n",
        "    with open(file_name, \"r\") as file:\n",
        "        # Read the file content\n",
        "        content = file.read()\n",
        "\n",
        "    # Count the occurrences of the specific word (case-insensitive)\n",
        "    word_count = content.lower().split().count(search_word.lower())\n",
        "\n",
        "    print(f\"The word '{search_word}' occurs {word_count} times in the file '{file_name}'.\")\n",
        "except FileNotFoundError:\n",
        "    print(f\"Error: The file '{file_name}' does not exist. Please check the file name and path.\")\n",
        "except Exception as e:\n",
        "    print(f\"An unexpected error occurred: {e}\")\n"
      ],
      "metadata": {
        "colab": {
          "base_uri": "https://localhost:8080/"
        },
        "id": "oYVSiEZpHpJY",
        "outputId": "5779993c-9c11-47bb-bfd9-b542b1f71e98"
      },
      "execution_count": 26,
      "outputs": [
        {
          "output_type": "stream",
          "name": "stdout",
          "text": [
            "The word 'Python' occurs 0 times in the file 'example.txt'.\n"
          ]
        }
      ]
    },
    {
      "cell_type": "code",
      "source": [
        "# 22.How can you check if a file is empty before attempting to read its contents\n",
        "\n",
        "\n",
        "import os\n",
        "\n",
        "file_path = \"example.txt\"\n",
        "\n",
        "# Check if the file exists and is empty\n",
        "if os.path.exists(file_path) and os.path.getsize(file_path) == 0:\n",
        "    print(f\"The file '{file_path}' is empty.\")\n",
        "else:\n",
        "    print(f\"The file '{file_path}' is not empty.\")\n"
      ],
      "metadata": {
        "colab": {
          "base_uri": "https://localhost:8080/"
        },
        "id": "Weqvyw2kH2GY",
        "outputId": "beba4d6f-a769-4e6d-a69d-5abe8c099ffc"
      },
      "execution_count": 27,
      "outputs": [
        {
          "output_type": "stream",
          "name": "stdout",
          "text": [
            "The file 'example.txt' is not empty.\n"
          ]
        }
      ]
    },
    {
      "cell_type": "code",
      "source": [
        "# 23.Write a Python program that writes to a log file when an error occurs during file handling.\n",
        "\n",
        "\n",
        "import logging\n",
        "\n",
        "# Configure logging to write messages to a log file\n",
        "logging.basicConfig(filename=\"file_errors.log\", level=logging.ERROR,\n",
        "                    format=\"%(asctime)s - %(levelname)s - %(message)s\")\n",
        "\n",
        "try:\n",
        "    # Attempt to open a non-existent file in read mode\n",
        "    with open(\"non_existent_file.txt\", \"r\") as file:\n",
        "        content = file.read()\n",
        "        print(content)\n",
        "except FileNotFoundError:\n",
        "    # Log the error to the log file\n",
        "    logging.error(\"Error: The file does not exist.\")\n",
        "    print(\"An error occurred: The file does not exist. Check 'file_errors.log' for details.\")\n",
        "except Exception as e:\n",
        "    # Log any other unexpected errors\n",
        "    logging.error(f\"An unexpected error occurred: {e}\")\n",
        "    print(\"An unexpected error occurred. Check 'file_errors.log' for details.\")\n"
      ],
      "metadata": {
        "id": "KR5H0yRHIDNh"
      },
      "execution_count": null,
      "outputs": []
    }
  ]
}